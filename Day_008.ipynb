{
  "nbformat": 4,
  "nbformat_minor": 0,
  "metadata": {
    "colab": {
      "name": "Day_008.ipynb",
      "provenance": [],
      "toc_visible": true
    },
    "kernelspec": {
      "name": "python3",
      "display_name": "Python 3"
    }
  },
  "cells": [
    {
      "cell_type": "markdown",
      "metadata": {
        "id": "4E38Dw7dGBSl",
        "colab_type": "text"
      },
      "source": [
        "# **PyGame - Intro**"
      ]
    },
    {
      "cell_type": "code",
      "metadata": {
        "id": "WpwW8vwkF8p1",
        "colab_type": "code",
        "colab": {}
      },
      "source": [
        "!pip install pygame\n",
        "\n",
        "import os\n",
        "os.environ[\"SDL_VIDEODRIVER\"] = \"dummy\"\n",
        "#pygame.init()\n",
        "import pygame\n",
        "\n",
        "pygame.display.set_mode((640,480))\n",
        "pygame.display.set_caption('A bit Racey')\n",
        "\n",
        "clock = pygame.time.Clock()\n",
        "\n",
        "crashed = False\n",
        "\n",
        "while not crashed:\n",
        "\n",
        "    for event in pygame.event.get():\n",
        "        if event.type == pygame.QUIT:\n",
        "            crashed = True\n",
        "\n",
        "        print(event)\n",
        "\n",
        "    pygame.display.update()\n",
        "    clock.tick(60)\n",
        "\n",
        "\n",
        "pygame.quit()\n",
        "quit()"
      ],
      "execution_count": null,
      "outputs": []
    },
    {
      "cell_type": "markdown",
      "metadata": {
        "id": "Nj4bUI5WLRva",
        "colab_type": "text"
      },
      "source": [
        "# **PyGame - Display Images**"
      ]
    },
    {
      "cell_type": "code",
      "metadata": {
        "id": "Q177y9j2LQaE",
        "colab_type": "code",
        "colab": {}
      },
      "source": [
        "import pygame\n",
        "\n",
        "\n",
        "pygame.init()\n",
        "\n",
        "\n",
        "display_width = 800\n",
        "display_height = 600\n",
        "\n",
        "gameDisplay = pygame.display.set_mode((display_width,display_height))\n",
        "pygame.display.set_caption('A bit Racey')\n",
        "\n",
        "black = (0,0,0)\n",
        "white = (255,255,255)\n",
        "\n",
        "clock = pygame.time.Clock()\n",
        "crashed = False\n",
        "carImg = pygame.image.load('racecar.png')\n",
        "\n",
        "def car(x,y):\n",
        "    gameDisplay.blit(carImg, (x,y))\n",
        "\n",
        "x =  (display_width * 0.45)\n",
        "y = (display_height * 0.8)\n",
        "\n",
        "while not crashed:\n",
        "    for event in pygame.event.get():\n",
        "        if event.type == pygame.QUIT:\n",
        "            crashed = True\n",
        "\n",
        "    gameDisplay.fill(white)\n",
        "    car(x,y)\n",
        "\n",
        "        \n",
        "    pygame.display.update()\n",
        "    clock.tick(60)\n",
        "\n",
        "pygame.quit()\n",
        "quit()"
      ],
      "execution_count": null,
      "outputs": []
    },
    {
      "cell_type": "markdown",
      "metadata": {
        "id": "giHXOjZyLlxp",
        "colab_type": "text"
      },
      "source": [
        "# **PyGame - Moving an Image**"
      ]
    },
    {
      "cell_type": "code",
      "metadata": {
        "id": "rwrFnA5HLmuX",
        "colab_type": "code",
        "colab": {}
      },
      "source": [
        "import pygame\n",
        "\n",
        "pygame.init()\n",
        "\n",
        "display_width = 800\n",
        "display_height = 600\n",
        "\n",
        "gameDisplay = pygame.display.set_mode((display_width,display_height))\n",
        "pygame.display.set_caption('A bit Racey')\n",
        "\n",
        "black = (0,0,0)\n",
        "white = (255,255,255)\n",
        "\n",
        "clock = pygame.time.Clock()\n",
        "crashed = False\n",
        "carImg = pygame.image.load('racecar.png')\n",
        "\n",
        "\n",
        "def car(x,y):\n",
        "    gameDisplay.blit(carImg, (x,y))\n",
        "\n",
        "x =  (display_width * 0.45)\n",
        "y = (display_height * 0.8)\n",
        "x_change = 0\n",
        "car_speed = 0\n",
        "\n",
        "while not crashed:\n",
        "    for event in pygame.event.get():\n",
        "        if event.type == pygame.QUIT:\n",
        "            crashed = True\n",
        "\n",
        "        ############################\n",
        "        if event.type == pygame.KEYDOWN:\n",
        "            if event.key == pygame.K_LEFT:\n",
        "                x_change = -5\n",
        "            elif event.key == pygame.K_RIGHT:\n",
        "                x_change = 5\n",
        "        if event.type == pygame.KEYUP:\n",
        "            if event.key == pygame.K_LEFT or event.key == pygame.K_RIGHT:\n",
        "                x_change = 0\n",
        "        ######################\n",
        "    ##\n",
        "    x += x_change\n",
        "   ##         \n",
        "    gameDisplay.fill(white)\n",
        "    car(x,y)\n",
        "        \n",
        "    pygame.display.update()\n",
        "    clock.tick(60)\n",
        "\n",
        "pygame.quit()\n",
        "quit()"
      ],
      "execution_count": null,
      "outputs": []
    }
  ]
}