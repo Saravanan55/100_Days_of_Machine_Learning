{
  "nbformat": 4,
  "nbformat_minor": 0,
  "metadata": {
    "colab": {
      "name": "Day_015.ipynb",
      "provenance": []
    },
    "kernelspec": {
      "name": "python3",
      "display_name": "Python 3"
    }
  },
  "cells": [
    {
      "cell_type": "markdown",
      "metadata": {
        "id": "XC8sqtCq9O3m",
        "colab_type": "text"
      },
      "source": [
        "# **OOPS in Python**"
      ]
    },
    {
      "cell_type": "markdown",
      "metadata": {
        "id": "OwLAzST6-c_E",
        "colab_type": "text"
      },
      "source": [
        "# **Class**"
      ]
    },
    {
      "cell_type": "code",
      "metadata": {
        "id": "ghRR0G0Q5viy",
        "colab_type": "code",
        "colab": {
          "base_uri": "https://localhost:8080/",
          "height": 34
        },
        "outputId": "79c0c93e-6189-40b0-ede2-d5cf37caf4f5"
      },
      "source": [
        "class Test:\n",
        "    def func(self): \n",
        "        print(\"Hello\") \n",
        "   \n",
        "obj = Test() \n",
        "obj.func() "
      ],
      "execution_count": 1,
      "outputs": [
        {
          "output_type": "stream",
          "text": [
            "Hello\n"
          ],
          "name": "stdout"
        }
      ]
    },
    {
      "cell_type": "markdown",
      "metadata": {
        "id": "KBHybuwv_TBj",
        "colab_type": "text"
      },
      "source": [
        "# **Method**"
      ]
    },
    {
      "cell_type": "code",
      "metadata": {
        "id": "hZc6w5hM-ciS",
        "colab_type": "code",
        "colab": {
          "base_uri": "https://localhost:8080/",
          "height": 34
        },
        "outputId": "9aef1d07-ba42-43bb-9b81-37a47f378e6b"
      },
      "source": [
        "class Person:   \n",
        "    def __init__(self, name): \n",
        "        self.name = name \n",
        "\n",
        "    def say_hi(self): \n",
        "        print('Hello, my name is', self.name) \n",
        "  \n",
        "p = Person('Saravanan') \n",
        "p.say_hi()"
      ],
      "execution_count": 2,
      "outputs": [
        {
          "output_type": "stream",
          "text": [
            "Hello, my name is Saravanan\n"
          ],
          "name": "stdout"
        }
      ]
    },
    {
      "cell_type": "markdown",
      "metadata": {
        "id": "RjkaWfjpYnMB",
        "colab_type": "text"
      },
      "source": [
        "# **Object**"
      ]
    },
    {
      "cell_type": "code",
      "metadata": {
        "id": "5GW7f8QTXFUs",
        "colab_type": "code",
        "colab": {
          "base_uri": "https://localhost:8080/",
          "height": 68
        },
        "outputId": "f4dce2fd-fa7a-4afe-94c9-60d094a3d50d"
      },
      "source": [
        "class Person:\n",
        "    \"This is a person class\"\n",
        "    age = 10\n",
        "\n",
        "    def greet(self):\n",
        "        print('Hello')\n",
        "\n",
        "harry = Person()\n",
        "print(Person.greet)\n",
        "print(harry.greet)\n",
        "harry.greet()"
      ],
      "execution_count": 3,
      "outputs": [
        {
          "output_type": "stream",
          "text": [
            "<function Person.greet at 0x7f312038f6a8>\n",
            "<bound method Person.greet of <__main__.Person object at 0x7f3120393b00>>\n",
            "Hello\n"
          ],
          "name": "stdout"
        }
      ]
    },
    {
      "cell_type": "markdown",
      "metadata": {
        "id": "xyvd-ZpWYrCO",
        "colab_type": "text"
      },
      "source": [
        "# **Inheritance**"
      ]
    },
    {
      "cell_type": "code",
      "metadata": {
        "id": "9HE6YUzYaMYY",
        "colab_type": "code",
        "colab": {
          "base_uri": "https://localhost:8080/",
          "height": 34
        },
        "outputId": "d6b69212-0c51-47f6-d7e4-25d55673504e"
      },
      "source": [
        "class Person:\n",
        "  def __init__(self, fname, lname):\n",
        "    self.firstname = fname\n",
        "    self.lastname = lname\n",
        "\n",
        "  def printname(self):\n",
        "    print(self.firstname, self.lastname)\n",
        "\n",
        "class Student(Person):\n",
        "  pass\n",
        "\n",
        "x = Student(\"Saravanan\", \"G\")\n",
        "x.printname()\n"
      ],
      "execution_count": 4,
      "outputs": [
        {
          "output_type": "stream",
          "text": [
            "Saravanan G\n"
          ],
          "name": "stdout"
        }
      ]
    },
    {
      "cell_type": "code",
      "metadata": {
        "id": "6B5qH52raRNN",
        "colab_type": "code",
        "colab": {
          "base_uri": "https://localhost:8080/",
          "height": 85
        },
        "outputId": "1a50f5c6-b7f4-4743-9690-9498a1c221f3"
      },
      "source": [
        "class Class1: \n",
        "    def m(self): \n",
        "        print(\"Student 1\")   \n",
        "       \n",
        "class Class2(Class1): \n",
        "    def m(self): \n",
        "        print(\"Student 2\") \n",
        "  \n",
        "class Class3(Class1): \n",
        "    def m(self): \n",
        "        print(\"Student 3\")      \n",
        "      \n",
        "class Class4(Class2, Class3): \n",
        "    def m(self): \n",
        "        print(\"Student 4\")    \n",
        "        Class2.m(self) \n",
        "        Class3.m(self) \n",
        "        Class1.m(self) \n",
        "  \n",
        "obj = Class4() \n",
        "obj.m() "
      ],
      "execution_count": 5,
      "outputs": [
        {
          "output_type": "stream",
          "text": [
            "Student 4\n",
            "Student 2\n",
            "Student 3\n",
            "Student 1\n"
          ],
          "name": "stdout"
        }
      ]
    },
    {
      "cell_type": "code",
      "metadata": {
        "id": "u7V2wMbubJTl",
        "colab_type": "code",
        "colab": {
          "base_uri": "https://localhost:8080/",
          "height": 85
        },
        "outputId": "bc6d363c-4b79-4ae6-8de2-bf7d4ff2d76f"
      },
      "source": [
        "class Class1: \n",
        "    def m(self): \n",
        "        print(\"In Class1\") \n",
        "  \n",
        "class Class2(Class1): \n",
        "    def m(self): \n",
        "        print(\"In Class2\") \n",
        "        super().m() \n",
        "  \n",
        "class Class3(Class1): \n",
        "    def m(self): \n",
        "        print(\"In Class3\") \n",
        "        super().m() \n",
        "  \n",
        "class Class4(Class2, Class3): \n",
        "    def m(self): \n",
        "        print(\"In Class4\")    \n",
        "        super().m() \n",
        "       \n",
        "obj = Class4() \n",
        "obj.m() "
      ],
      "execution_count": 6,
      "outputs": [
        {
          "output_type": "stream",
          "text": [
            "In Class4\n",
            "In Class2\n",
            "In Class3\n",
            "In Class1\n"
          ],
          "name": "stdout"
        }
      ]
    },
    {
      "cell_type": "markdown",
      "metadata": {
        "id": "oFJHjiOdgoEF",
        "colab_type": "text"
      },
      "source": [
        "# **Abstraction**"
      ]
    },
    {
      "cell_type": "code",
      "metadata": {
        "id": "hdcKLCjmgpo-",
        "colab_type": "code",
        "colab": {
          "base_uri": "https://localhost:8080/",
          "height": 85
        },
        "outputId": "1d25bcff-f0f1-4c0d-b3a0-dd4cd766c0fc"
      },
      "source": [
        "  \n",
        "class Polygon(): \n",
        "    def noofsides(self): \n",
        "        pass\n",
        "  \n",
        "class Triangle(Polygon): \n",
        "    def noofsides(self): \n",
        "        print(\"I have 3 sides\") \n",
        "  \n",
        "class Pentagon(Polygon): \n",
        "    def noofsides(self): \n",
        "        print(\"I have 5 sides\") \n",
        "  \n",
        "class Hexagon(Polygon): \n",
        "    def noofsides(self): \n",
        "        print(\"I have 6 sides\") \n",
        "  \n",
        "class Quadrilateral(Polygon): \n",
        "    def noofsides(self): \n",
        "        print(\"I have 4 sides\") \n",
        "\n",
        "R = Triangle() \n",
        "R.noofsides() \n",
        "  \n",
        "K = Quadrilateral() \n",
        "K.noofsides() \n",
        "  \n",
        "R = Pentagon() \n",
        "R.noofsides() \n",
        "  \n",
        "K = Hexagon() \n",
        "K.noofsides() "
      ],
      "execution_count": 7,
      "outputs": [
        {
          "output_type": "stream",
          "text": [
            "I have 3 sides\n",
            "I have 4 sides\n",
            "I have 5 sides\n",
            "I have 6 sides\n"
          ],
          "name": "stdout"
        }
      ]
    },
    {
      "cell_type": "markdown",
      "metadata": {
        "id": "5gsxwcD9g0Un",
        "colab_type": "text"
      },
      "source": [
        "# **Encapsulation**"
      ]
    },
    {
      "cell_type": "code",
      "metadata": {
        "id": "FIwOpx9Mg1FP",
        "colab_type": "code",
        "colab": {
          "base_uri": "https://localhost:8080/",
          "height": 68
        },
        "outputId": "4047e352-b6b6-4a65-c1ca-64f006d211c1"
      },
      "source": [
        "class Car:\n",
        "\n",
        "    maxspeed = 0\n",
        "    name = \"\"\n",
        "    \n",
        "    def __init__(self):\n",
        "        self.maxspeed = 200\n",
        "        self.name = \"Supercar\"\n",
        "    \n",
        "    def drive(self):\n",
        "        print('driving. maxspeed ' + str(self.maxspeed))\n",
        "\n",
        "    def setMaxSpeed(self,speed):\n",
        "        self.maxspeed = speed\n",
        "\n",
        "redcar = Car()\n",
        "redcar.drive()\n",
        "redcar.setMaxSpeed(320)\n",
        "redcar.drive()\n",
        "redcar.setMaxSpeed(400)\n",
        "redcar.drive()"
      ],
      "execution_count": 10,
      "outputs": [
        {
          "output_type": "stream",
          "text": [
            "driving. maxspeed 200\n",
            "driving. maxspeed 320\n",
            "driving. maxspeed 400\n"
          ],
          "name": "stdout"
        }
      ]
    }
  ]
}