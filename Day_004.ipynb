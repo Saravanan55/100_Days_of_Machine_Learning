{
  "nbformat": 4,
  "nbformat_minor": 0,
  "metadata": {
    "colab": {
      "name": "Day_004.ipynb",
      "provenance": []
    },
    "kernelspec": {
      "name": "python3",
      "display_name": "Python 3"
    },
    "accelerator": "GPU"
  },
  "cells": [
    {
      "cell_type": "markdown",
      "metadata": {
        "id": "UoS10S8u9Q9E",
        "colab_type": "text"
      },
      "source": [
        "# **Built-in Functions**"
      ]
    },
    {
      "cell_type": "code",
      "metadata": {
        "id": "lvvMWYo19Hi_",
        "colab_type": "code",
        "colab": {
          "base_uri": "https://localhost:8080/",
          "height": 544
        },
        "outputId": "bce1ba3c-28cf-4263-aeaf-c09694c7a137"
      },
      "source": [
        "import math\n",
        "x=-5\n",
        "print(abs(x))\n",
        "list1=[5,3,8,12,2,6,9,7,4,10]\n",
        "print(min(list1))\n",
        "print(max(list1))\n",
        "x=6.7\n",
        "print(round(x))\n",
        "print(math.floor(x))\n",
        "print(math.ceil(x))\n",
        "\n",
        "import urllib\n",
        "help(urllib)\n"
      ],
      "execution_count": 1,
      "outputs": [
        {
          "output_type": "stream",
          "text": [
            "5\n",
            "2\n",
            "12\n",
            "7\n",
            "6\n",
            "7\n",
            "Help on package urllib:\n",
            "\n",
            "NAME\n",
            "    urllib\n",
            "\n",
            "MODULE REFERENCE\n",
            "    https://docs.python.org/3.6/library/urllib\n",
            "    \n",
            "    The following documentation is automatically generated from the Python\n",
            "    source files.  It may be incomplete, incorrect or include features that\n",
            "    are considered implementation detail and may vary between Python\n",
            "    implementations.  When in doubt, consult the module reference at the\n",
            "    location listed above.\n",
            "\n",
            "PACKAGE CONTENTS\n",
            "    error\n",
            "    parse\n",
            "    request\n",
            "    response\n",
            "    robotparser\n",
            "\n",
            "FILE\n",
            "    /usr/lib/python3.6/urllib/__init__.py\n",
            "\n",
            "\n"
          ],
          "name": "stdout"
        }
      ]
    },
    {
      "cell_type": "markdown",
      "metadata": {
        "id": "uzxUikF-9gE_",
        "colab_type": "text"
      },
      "source": [
        "# **Os and Sys Module**"
      ]
    },
    {
      "cell_type": "code",
      "metadata": {
        "id": "vfZp6A1DFLhv",
        "colab_type": "code",
        "colab": {
          "base_uri": "https://localhost:8080/",
          "height": 102
        },
        "outputId": "35d9cc79-7946-40d5-d520-0995fbd4cbc7"
      },
      "source": [
        "import os\n",
        "import sys\n",
        "\n",
        "print(os.getcwd())\n",
        "\n",
        "print(sys.argv)\n",
        "\n",
        "sys.stderr.write(\"this is stderr text\\n\")\n",
        "sys.stdout.write(\"this is stdout text\\n\")\n",
        "\n",
        "if len(sys.argv)>1:\n",
        "  print(sys.argv[0])\n"
      ],
      "execution_count": 2,
      "outputs": [
        {
          "output_type": "stream",
          "text": [
            "/content\n",
            "['/usr/local/lib/python3.6/dist-packages/ipykernel_launcher.py', '-f', '/root/.local/share/jupyter/runtime/kernel-68837ce5-cad5-48f9-ad86-ec4e1401b02f.json']\n",
            "this is stdout text\n",
            "/usr/local/lib/python3.6/dist-packages/ipykernel_launcher.py\n"
          ],
          "name": "stdout"
        },
        {
          "output_type": "stream",
          "text": [
            "this is stderr text\n"
          ],
          "name": "stderr"
        }
      ]
    },
    {
      "cell_type": "markdown",
      "metadata": {
        "id": "zydYbZZ0Il2r",
        "colab_type": "text"
      },
      "source": [
        "# **urllib module**"
      ]
    },
    {
      "cell_type": "code",
      "metadata": {
        "id": "TJi6L5ByIlMV",
        "colab_type": "code",
        "colab": {
          "base_uri": "https://localhost:8080/",
          "height": 71
        },
        "outputId": "fa96e8a2-1c28-40a4-edff-d5d47b06bf77"
      },
      "source": [
        "import urllib.request\n",
        "\n",
        "x=urllib.request.urlopen(\"https://www.google.com\")\n",
        "\n",
        "print(x)\n",
        "print(x.read())"
      ],
      "execution_count": 3,
      "outputs": [
        {
          "output_type": "stream",
          "text": [
            "<http.client.HTTPResponse object at 0x7fd5ce5e55c0>\n",
            "b'<!doctype html><html itemscope=\"\" itemtype=\"http://schema.org/WebPage\" lang=\"en\"><head><meta content=\"Search the world\\'s information, including webpages, images, videos and more. Google has many special features to help you find exactly what you\\'re looking for.\" name=\"description\"><meta content=\"noodp\" name=\"robots\"><meta content=\"text/html; charset=UTF-8\" http-equiv=\"Content-Type\"><meta content=\"/images/branding/googleg/1x/googleg_standard_color_128dp.png\" itemprop=\"image\"><title>Google</title><script nonce=\"+USAx8CWtz7CkDnesyhMAA==\">(function(){window.google={kEI:\\'QIsZX7ndLau0mAWmxriYDQ\\',kEXPI:\\'0,18168,183955,3,4,32,1151584,3036,2627,730,224,5105,206,3204,10,1226,364,1499,817,383,246,5,8,1120,226,648,994,52,1269,667,469,294,21,3,519,316,216,89,181,2,10,189,85,50,52,5,380,221,161,155,1120718,1197780,329487,13677,4855,32692,15247,867,28684,9188,8384,4858,1362,9290,3029,2816,1923,11028,1,1813,4019,978,4788,1,3142,5297,2054,920,873,1217,2975,6430,1142,6290,3874,3222,235,4282,1398,1379,919,2277,8,2796,887,706,1165,114,2212,241,289,149,1103,840,517,1137,278,51,56,4258,109,203,1135,1,3,2063,606,2023,1920,377,1947,1030,1,1198,93,328,1284,16,2927,2246,1813,1787,3227,2845,7,6068,6286,4455,641,2449,2459,1226,1743,4928,108,1710,43,1654,908,2,941,2614,2397,7421,49,1,839,1337,666,432,3,1546,865,1,371,3546,706,149,189,2837,476,502,1,1985,158,1,2093,1991,1951,47,83,1010,651,4,1528,17,1278,380,629,1236,271,874,405,1259,581,20,177,1918,371,745,973,9,43,214,1202,1425,459,875,6,438,23,15,195,1717,2353,292,1972,87,3,1493,877,910,1426,69,305,2310,1514,556,20,433,6,282,1844,599,1414,554,2,237,6,296,468,370,87,523,4,198,1354,44,72,393,108,81,57,44,219,194,5,41,2,868,67,175,36,208,78,525,164,375,4,52,30,177,283,448,1,359,363,427,8,2,149,1363,413,151,122,382,217,2,65,23,113,65,152,16,6,46,1,28,294,83,4,472,7,415,430,646,4,72,150,12,2,42,114,309,829,323,314,557,58,215,1,3,162,5787414,3475,8798441,549,333,444,1,2,80,1,900,896,1,9,2,2551,1,748,141,59,736,563,1,4265,1,1,2,1017,9,305,3037,23,5,6,4,45,179,51,3,1,54,2,2,2,2,2,2,3,1,1,1,2,2,14,1,7,6,57,32,3502196,20458660\\',kBL:\\'aaAI\\'};google.sn=\\'webhp\\';google.kHL=\\'en\\';})();(function(){google.lc=[];google.li=0;google.getEI=function(a){for(var c;a&&(!a.getAttribute||!(c=a.getAttribute(\"eid\")));)a=a.parentNode;return c||google.kEI};google.getLEI=function(a){for(var c=null;a&&(!a.getAttribute||!(c=a.getAttribute(\"leid\")));)a=a.parentNode;return c};google.ml=function(){return null};google.time=function(){return Date.now()};google.log=function(a,c,b,d,g){if(b=google.logUrl(a,c,b,d,g)){a=new Image;var e=google.lc,f=google.li;e[f]=a;a.onerror=a.onload=a.onabort=function(){delete e[f]};google.vel&&google.vel.lu&&google.vel.lu(b);a.src=b;google.li=f+1}};google.logUrl=function(a,c,b,d,g){var e=\"\",f=google.ls||\"\";b||-1!=c.search(\"&ei=\")||(e=\"&ei=\"+google.getEI(d),-1==c.search(\"&lei=\")&&(d=google.getLEI(d))&&(e+=\"&lei=\"+d));d=\"\";!b&&google.cshid&&-1==c.search(\"&cshid=\")&&\"slh\"!=a&&(d=\"&cshid=\"+google.cshid);b=b||\"/\"+(g||\"gen_204\")+\"?atyp=i&ct=\"+a+\"&cad=\"+c+e+f+\"&zx=\"+google.time()+d;/^http:/i.test(b)&&\"https:\"==window.location.protocol&&(google.ml(Error(\"a\"),!1,{src:b,glmm:1}),b=\"\");return b};}).call(this);(function(){google.y={};google.x=function(a,b){if(a)var c=a.id;else{do c=Math.random();while(google.y[c])}google.y[c]=[a,b];return!1};google.lm=[];google.plm=function(a){google.lm.push.apply(google.lm,a)};google.lq=[];google.load=function(a,b,c){google.lq.push([[a],b,c])};google.loadAll=function(a,b){google.lq.push([a,b])};}).call(this);google.f={};(function(){\\ndocument.documentElement.addEventListener(\"submit\",function(b){var a;if(a=b.target){var c=a.getAttribute(\"data-submitfalse\");a=\"1\"==c||\"q\"==c&&!a.elements.q.value?!0:!1}else a=!1;a&&(b.preventDefault(),b.stopPropagation())},!0);document.documentElement.addEventListener(\"click\",function(b){var a;a:{for(a=b.target;a&&a!=document.documentElement;a=a.parentElement)if(\"A\"==a.tagName){a=\"1\"==a.getAttribute(\"data-nohref\");break a}a=!1}a&&b.preventDefault()},!0);}).call(this);\\nvar a=window.location,b=a.href.indexOf(\"#\");if(0<=b){var c=a.href.substring(b+1);/(^|&)q=/.test(c)&&-1==c.indexOf(\"#\")&&a.replace(\"/search?\"+c.replace(/(^|&)fp=[^&]*/g,\"\")+\"&cad=h\")};</script><style>#gbar,#guser{font-size:13px;padding-top:1px !important;}#gbar{height:22px}#guser{padding-bottom:7px !important;text-align:right}.gbh,.gbd{border-top:1px solid #c9d7f1;font-size:1px}.gbh{height:0;position:absolute;top:24px;width:100%}@media all{.gb1{height:22px;margin-right:.5em;vertical-align:top}#gbar{float:left}}a.gb1,a.gb4{text-decoration:underline !important}a.gb1,a.gb4{color:#00c !important}.gbi .gb4{color:#dd8e27 !important}.gbf .gb4{color:#900 !important}\\n</style><style>body,td,a,p,.h{font-family:arial,sans-serif}body{margin:0;overflow-y:scroll}#gog{padding:3px 8px 0}td{line-height:.8em}.gac_m td{line-height:17px}form{margin-bottom:20px}.h{color:#36c}.q{color:#00c}em{font-weight:bold;font-style:normal}.lst{height:25px;width:496px}.gsfi,.lst{font:18px arial,sans-serif}.gsfs{font:17px arial,sans-serif}.ds{display:inline-box;display:inline-block;margin:3px 0 4px;margin-left:4px}input{font-family:inherit}body{background:#fff;color:#000}a{color:#11c;text-decoration:none}a:hover,a:active{text-decoration:underline}.fl a{color:#36c}a:visited{color:#551a8b}.sblc{padding-top:5px}.sblc a{display:block;margin:2px 0;margin-left:13px;font-size:11px}.lsbb{background:#eee;border:solid 1px;border-color:#ccc #999 #999 #ccc;height:30px}.lsbb{display:block}#fll a{display:inline-block;margin:0 12px}.lsb{background:url(/images/nav_logo229.png) 0 -261px repeat-x;border:none;color:#000;cursor:pointer;height:30px;margin:0;outline:0;font:15px arial,sans-serif;vertical-align:top}.lsb:active{background:#ccc}.lst:focus{outline:none}</style><script nonce=\"+USAx8CWtz7CkDnesyhMAA==\"></script></head><body bgcolor=\"#fff\"><script nonce=\"+USAx8CWtz7CkDnesyhMAA==\">(function(){var src=\\'/images/nav_logo229.png\\';var iesg=false;document.body.onload = function(){window.n && window.n();if (document.images){new Image().src=src;}\\nif (!iesg){document.f&&document.f.q.focus();document.gbqf&&document.gbqf.q.focus();}\\n}\\n})();</script><div id=\"mngb\"><div id=gbar><nobr><b class=gb1>Search</b> <a class=gb1 href=\"https://www.google.com/imghp?hl=en&tab=wi\">Images</a> <a class=gb1 href=\"https://maps.google.com/maps?hl=en&tab=wl\">Maps</a> <a class=gb1 href=\"https://play.google.com/?hl=en&tab=w8\">Play</a> <a class=gb1 href=\"https://www.youtube.com/?gl=US&tab=w1\">YouTube</a> <a class=gb1 href=\"https://news.google.com/nwshp?hl=en&tab=wn\">News</a> <a class=gb1 href=\"https://mail.google.com/mail/?tab=wm\">Gmail</a> <a class=gb1 href=\"https://drive.google.com/?tab=wo\">Drive</a> <a class=gb1 style=\"text-decoration:none\" href=\"https://www.google.com/intl/en/about/products?tab=wh\"><u>More</u> &raquo;</a></nobr></div><div id=guser width=100%><nobr><span id=gbn class=gbi></span><span id=gbf class=gbf></span><span id=gbe></span><a href=\"http://www.google.com/history/optout?hl=en\" class=gb4>Web History</a> | <a  href=\"/preferences?hl=en\" class=gb4>Settings</a> | <a target=_top id=gb_70 href=\"https://accounts.google.com/ServiceLogin?hl=en&passive=true&continue=https://www.google.com/\" class=gb4>Sign in</a></nobr></div><div class=gbh style=left:0></div><div class=gbh style=right:0></div></div><center><br clear=\"all\" id=\"lgpd\"><div id=\"lga\"><img alt=\"Google\" height=\"92\" src=\"/images/branding/googlelogo/1x/googlelogo_white_background_color_272x92dp.png\" style=\"padding:28px 0 14px\" width=\"272\" id=\"hplogo\"><br><br></div><form action=\"/search\" name=\"f\"><table cellpadding=\"0\" cellspacing=\"0\"><tr valign=\"top\"><td width=\"25%\">&nbsp;</td><td align=\"center\" nowrap=\"\"><input name=\"ie\" value=\"ISO-8859-1\" type=\"hidden\"><input value=\"en\" name=\"hl\" type=\"hidden\"><input name=\"source\" type=\"hidden\" value=\"hp\"><input name=\"biw\" type=\"hidden\"><input name=\"bih\" type=\"hidden\"><div class=\"ds\" style=\"height:32px;margin:4px 0\"><input class=\"lst\" style=\"margin:0;padding:5px 8px 0 6px;vertical-align:top;color:#000\" autocomplete=\"off\" value=\"\" title=\"Google Search\" maxlength=\"2048\" name=\"q\" size=\"57\"></div><br style=\"line-height:0\"><span class=\"ds\"><span class=\"lsbb\"><input class=\"lsb\" value=\"Google Search\" name=\"btnG\" type=\"submit\"></span></span><span class=\"ds\"><span class=\"lsbb\"><input class=\"lsb\" id=\"tsuid1\" value=\"I\\'m Feeling Lucky\" name=\"btnI\" type=\"submit\"><script nonce=\"+USAx8CWtz7CkDnesyhMAA==\">(function(){var id=\\'tsuid1\\';document.getElementById(id).onclick = function(){if (this.form.q.value){this.checked = 1;if (this.form.iflsig)this.form.iflsig.disabled = false;}\\nelse top.location=\\'/doodles/\\';};})();</script><input value=\"AINFCbYAAAAAXxmZUPhYqzmOYEz0-7ZlAKdZETYJd9iS\" name=\"iflsig\" type=\"hidden\"></span></span></td><td class=\"fl sblc\" align=\"left\" nowrap=\"\" width=\"25%\"><a href=\"/advanced_search?hl=en&amp;authuser=0\">Advanced search</a></td></tr></table><input id=\"gbv\" name=\"gbv\" type=\"hidden\" value=\"1\"><script nonce=\"+USAx8CWtz7CkDnesyhMAA==\">(function(){var a,b=\"1\";if(document&&document.getElementById)if(\"undefined\"!=typeof XMLHttpRequest)b=\"2\";else if(\"undefined\"!=typeof ActiveXObject){var c,d,e=[\"MSXML2.XMLHTTP.6.0\",\"MSXML2.XMLHTTP.3.0\",\"MSXML2.XMLHTTP\",\"Microsoft.XMLHTTP\"];for(c=0;d=e[c++];)try{new ActiveXObject(d),b=\"2\"}catch(h){}}a=b;if(\"2\"==a&&-1==location.search.indexOf(\"&gbv=2\")){var f=google.gbvu,g=document.getElementById(\"gbv\");g&&(g.value=a);f&&window.setTimeout(function(){location.href=f},0)};}).call(this);</script></form><div id=\"gac_scont\"></div><div style=\"font-size:83%;min-height:3.5em\"><br></div><span id=\"footer\"><div style=\"font-size:10pt\"><div style=\"margin:19px auto;text-align:center\" id=\"fll\"><a href=\"/intl/en/ads/\">Advertising\\xa0Programs</a><a href=\"/services/\">Business Solutions</a><a href=\"/intl/en/about.html\">About Google</a></div></div><p style=\"font-size:8pt;color:#767676\">&copy; 2020 - <a href=\"/intl/en/policies/privacy/\">Privacy</a> - <a href=\"/intl/en/policies/terms/\">Terms</a></p></span></center><script nonce=\"+USAx8CWtz7CkDnesyhMAA==\">(function(){window.google.cdo={height:0,width:0};(function(){var a=window.innerWidth,b=window.innerHeight;if(!a||!b){var c=window.document,d=\"CSS1Compat\"==c.compatMode?c.documentElement:c.body;a=d.clientWidth;b=d.clientHeight}a&&b&&(a!=google.cdo.width||b!=google.cdo.height)&&google.log(\"\",\"\",\"/client_204?&atyp=i&biw=\"+a+\"&bih=\"+b+\"&ei=\"+google.kEI);}).call(this);})();(function(){var u=\\'/xjs/_/js/k\\\\x3dxjs.hp.en_US.v1Yj6_3_xDY.O/m\\\\x3dsb_he,d/am\\\\x3dAE-wOQ/d\\\\x3d1/rs\\\\x3dACT90oHxuZHmSFByKKKhO9lKfARcvsOJJg\\';\\nsetTimeout(function(){var b=document;var a=\"SCRIPT\";\"application/xhtml+xml\"===b.contentType&&(a=a.toLowerCase());a=b.createElement(a);a.src=u;google.timers&&google.timers.load&&google.tick&&google.tick(\"load\",\"xjsls\");document.body.appendChild(a)},0);})();(function(){window.google.xjsu=\\'/xjs/_/js/k\\\\x3dxjs.hp.en_US.v1Yj6_3_xDY.O/m\\\\x3dsb_he,d/am\\\\x3dAE-wOQ/d\\\\x3d1/rs\\\\x3dACT90oHxuZHmSFByKKKhO9lKfARcvsOJJg\\';})();function _DumpException(e){throw e;}\\nfunction _F_installCss(c){}\\n(function(){google.jl={dw:false,em:[],emw:false,lls:\\'default\\',pdt:0,snet:true,uwp:true};})();(function(){var pmc=\\'{\\\\x22d\\\\x22:{},\\\\x22sb_he\\\\x22:{\\\\x22agen\\\\x22:true,\\\\x22cgen\\\\x22:true,\\\\x22client\\\\x22:\\\\x22heirloom-hp\\\\x22,\\\\x22dh\\\\x22:true,\\\\x22dhqt\\\\x22:true,\\\\x22ds\\\\x22:\\\\x22\\\\x22,\\\\x22ffql\\\\x22:\\\\x22en\\\\x22,\\\\x22fl\\\\x22:true,\\\\x22host\\\\x22:\\\\x22google.com\\\\x22,\\\\x22isbh\\\\x22:28,\\\\x22jsonp\\\\x22:true,\\\\x22msgs\\\\x22:{\\\\x22cibl\\\\x22:\\\\x22Clear Search\\\\x22,\\\\x22dym\\\\x22:\\\\x22Did you mean:\\\\x22,\\\\x22lcky\\\\x22:\\\\x22I\\\\\\\\u0026#39;m Feeling Lucky\\\\x22,\\\\x22lml\\\\x22:\\\\x22Learn more\\\\x22,\\\\x22oskt\\\\x22:\\\\x22Input tools\\\\x22,\\\\x22psrc\\\\x22:\\\\x22This search was removed from your \\\\\\\\u003Ca href\\\\x3d\\\\\\\\\\\\x22/history\\\\\\\\\\\\x22\\\\\\\\u003EWeb History\\\\\\\\u003C/a\\\\\\\\u003E\\\\x22,\\\\x22psrl\\\\x22:\\\\x22Remove\\\\x22,\\\\x22sbit\\\\x22:\\\\x22Search by image\\\\x22,\\\\x22srch\\\\x22:\\\\x22Google Search\\\\x22},\\\\x22ovr\\\\x22:{},\\\\x22pq\\\\x22:\\\\x22\\\\x22,\\\\x22refpd\\\\x22:true,\\\\x22rfs\\\\x22:[],\\\\x22sbpl\\\\x22:16,\\\\x22sbpr\\\\x22:16,\\\\x22scd\\\\x22:10,\\\\x22stok\\\\x22:\\\\x22hZZPbHRZ2M6w7esol9QN6_dKiGo\\\\x22,\\\\x22uhde\\\\x22:false}}\\';google.pmc=JSON.parse(pmc);})();</script>        </body></html>'\n"
          ],
          "name": "stdout"
        }
      ]
    },
    {
      "cell_type": "markdown",
      "metadata": {
        "id": "jllLq2UwI2vZ",
        "colab_type": "text"
      },
      "source": [
        "# **Regular Expressions**"
      ]
    },
    {
      "cell_type": "code",
      "metadata": {
        "id": "FmPM9EmJOL-x",
        "colab_type": "code",
        "colab": {
          "base_uri": "https://localhost:8080/",
          "height": 34
        },
        "outputId": "49588cee-2b2b-4359-912d-a7880ce4f157"
      },
      "source": [
        "import re\n",
        "\n",
        "string='''\n",
        "  Adam is 20 years old and Peter is 25 years old.\n",
        "  Daniel is 70, and his grandfather, Oscar is 102.\n",
        "\n",
        "'''\n",
        "\n",
        "ages=re.findall(r'\\d{1,3}',string)\n",
        "names=re.findall(r'[A-Z][a-z]*',string)\n",
        "print(ages,names)\n"
      ],
      "execution_count": 4,
      "outputs": [
        {
          "output_type": "stream",
          "text": [
            "['20', '25', '70', '102'] ['Adam', 'Peter', 'Daniel', 'Oscar']\n"
          ],
          "name": "stdout"
        }
      ]
    },
    {
      "cell_type": "markdown",
      "metadata": {
        "id": "XrYs4bSLR6Zp",
        "colab_type": "text"
      },
      "source": [
        "# **Parsing Websites with re and urllib**"
      ]
    },
    {
      "cell_type": "code",
      "metadata": {
        "id": "9shluHwUR8CN",
        "colab_type": "code",
        "colab": {
          "base_uri": "https://localhost:8080/",
          "height": 54
        },
        "outputId": "49383ad2-50f9-419f-a191-955a08d2664f"
      },
      "source": [
        "import re\n",
        "import urllib\n",
        "x=urllib.request.urlopen(\"https://www.geeksforgeeks.org/find-length-of-loop-in-linked-list/\")\n",
        "string=x.read()\n",
        "paragraph=re.findall(r'<p>(.*?)</p>',str(string))\n",
        "print(paragraph)"
      ],
      "execution_count": 5,
      "outputs": [
        {
          "output_type": "stream",
          "text": [
            "['Write a function <em>detectAndCountLoop()</em> that checks whether a given Linked List contains loop and if loop is present then returns count of nodes in loop.  For example, the loop is present in below-linked list and length of the loop is 4. If the loop is not present, then the function should return 0.', '<a href=\"https://media.geeksforgeeks.org/wp-content/cdn-uploads/2009/04/Linked-List-Loop.gif\"><img src=\"https://media.geeksforgeeks.org/wp-content/cdn-uploads/2009/04/Linked-List-Loop.gif\" alt=\"\" title=\"Linked List Loop\" width=\"300\" height=\"150\" class=\"aligncenter size-full wp-image-866\" /></a>', '<u><strong>Approach</u>:</strong> It is known that <a href=\"https://www.geeksforgeeks.org/detect-loop-in-a-linked-list/\">Floyd\\\\xe2\\\\x80\\\\x99s Cycle detection algorithm</a> terminates when fast and slow pointers meet at a common point.  It is also known that this common point is one of the loop nodes. Store the address of this common point in a pointer variable say (ptr). Then initialize a counter with 1 and start from the common point and keeps on visiting the next node and increasing the counter till the common pointer is reached again.<br />\\\\nAt that point, the value of the counter will be equal to the length of the loop.', '<strong>Algorithm:</strong>', '                                    <i id=\"run-and-edit-button\" title=\"Edit Code\" lang=\"cpp\"  class=\"material-icons code-sidebar-button\">edit</i><br />\\\\n                                    <i id=\"close-code-editor-button\" title=\"Close Editor\" class=\"material-icons code-sidebar-button close-code-editor-button\">close</i>', '                                    <i id=\"run-code-button\" lang=\"cpp\" title=\"Run Code and See Output\" class=\"material-icons code-sidebar-button\">play_arrow</i>', '                                    <i id=\"generate-url-and-run-button\" title=\"Run Code and Generate IDE URL\" lang=\"cpp\"  class=\"material-icons code-sidebar-button generate-url-and-run-button\">link</i><br />\\\\n                                    <i title=\"Dark Mode\" class=\"material-icons code-sidebar-button dark-editor-button\">brightness_4</i><br />\\\\n                                    <i id = \"edit-on-ide-button\" title=\"Edit on IDE\"  lang=\"cpp\" class=\"material-icons code-sidebar-button edit-on-ide-button\">code</i>\\\\n                                </div>\\\\n', '                                    <i id=\"run-and-edit-button\" title=\"Edit Code\" lang=\"c\"  class=\"material-icons code-sidebar-button\">edit</i><br />\\\\n                                    <i id=\"close-code-editor-button\" title=\"Close Editor\" class=\"material-icons code-sidebar-button close-code-editor-button\">close</i>', '                                    <i id=\"run-code-button\" lang=\"c\" title=\"Run Code and See Output\" class=\"material-icons code-sidebar-button\">play_arrow</i>', '                                    <i id=\"generate-url-and-run-button\" title=\"Run Code and Generate IDE URL\" lang=\"c\"  class=\"material-icons code-sidebar-button generate-url-and-run-button\">link</i><br />\\\\n                                    <i title=\"Dark Mode\" class=\"material-icons code-sidebar-button dark-editor-button\">brightness_4</i><br />\\\\n                                    <i id = \"edit-on-ide-button\" title=\"Edit on IDE\"  lang=\"c\" class=\"material-icons code-sidebar-button edit-on-ide-button\">code</i>\\\\n                                </div>\\\\n', '                                    <i id=\"run-and-edit-button\" title=\"Edit Code\" lang=\"java\"  class=\"material-icons code-sidebar-button\">edit</i><br />\\\\n                                    <i id=\"close-code-editor-button\" title=\"Close Editor\" class=\"material-icons code-sidebar-button close-code-editor-button\">close</i>', '                                    <i id=\"run-code-button\" lang=\"java\" title=\"Run Code and See Output\" class=\"material-icons code-sidebar-button\">play_arrow</i>', '                                    <i id=\"generate-url-and-run-button\" title=\"Run Code and Generate IDE URL\" lang=\"java\"  class=\"material-icons code-sidebar-button generate-url-and-run-button\">link</i><br />\\\\n                                    <i title=\"Dark Mode\" class=\"material-icons code-sidebar-button dark-editor-button\">brightness_4</i><br />\\\\n                                    <i id = \"edit-on-ide-button\" title=\"Edit on IDE\"  lang=\"java\" class=\"material-icons code-sidebar-button edit-on-ide-button\">code</i>\\\\n                                </div>\\\\n', '                                    <i id=\"run-and-edit-button\" title=\"Edit Code\" lang=\"python3\"  class=\"material-icons code-sidebar-button\">edit</i><br />\\\\n                                    <i id=\"close-code-editor-button\" title=\"Close Editor\" class=\"material-icons code-sidebar-button close-code-editor-button\">close</i>', '                                    <i id=\"run-code-button\" lang=\"python3\" title=\"Run Code and See Output\" class=\"material-icons code-sidebar-button\">play_arrow</i>', '                                    <i id=\"generate-url-and-run-button\" title=\"Run Code and Generate IDE URL\" lang=\"python3\"  class=\"material-icons code-sidebar-button generate-url-and-run-button\">link</i><br />\\\\n                                    <i title=\"Dark Mode\" class=\"material-icons code-sidebar-button dark-editor-button\">brightness_4</i><br />\\\\n                                    <i id = \"edit-on-ide-button\" title=\"Edit on IDE\"  lang=\"python3\" class=\"material-icons code-sidebar-button edit-on-ide-button\">code</i>\\\\n                                </div>\\\\n', '                                    <i id=\"run-and-edit-button\" title=\"Edit Code\" lang=\"csharp\"  class=\"material-icons code-sidebar-button\">edit</i><br />\\\\n                                    <i id=\"close-code-editor-button\" title=\"Close Editor\" class=\"material-icons code-sidebar-button close-code-editor-button\">close</i>', '                                    <i id=\"run-code-button\" lang=\"csharp\" title=\"Run Code and See Output\" class=\"material-icons code-sidebar-button\">play_arrow</i>', '                                    <i id=\"generate-url-and-run-button\" title=\"Run Code and Generate IDE URL\" lang=\"csharp\"  class=\"material-icons code-sidebar-button generate-url-and-run-button\">link</i><br />\\\\n                                    <i title=\"Dark Mode\" class=\"material-icons code-sidebar-button dark-editor-button\">brightness_4</i><br />\\\\n                                    <i id = \"edit-on-ide-button\" title=\"Edit on IDE\"  lang=\"csharp\" class=\"material-icons code-sidebar-button edit-on-ide-button\">code</i>\\\\n                                </div>\\\\n', '</div></div><br />\\\\n<strong>Output :</strong>', '<strong>Complexity Analysis:</strong>', '<strong>Related Articles: </strong>', 'This article is contributed by <strong>Shubham Gupta</strong>. If you like GeeksforGeeks and would like to contribute, you can also write an article using <a href=\"http://www.contribute.geeksforgeeks.org\">contribute.geeksforgeeks.org</a> or mail your article to contribute@geeksforgeeks.org. See your article appearing on the GeeksforGeeks main page and help other Geeks.', 'Please write comments if you find anything incorrect, or you want to share more information about the topic discussed above.', \"Attention reader! Don&#8217;t stop learning now. Get hold of all the important DSA concepts with the <a href=\\\\'https://practice.geeksforgeeks.org/courses/dsa-self-paced?utm_source=geeksforgeeks&#038;utm_medium=article&#038;utm_campaign=gfg_article_dsa_content_bottom\\\\' target=\\\\'_blank\\\\'><b>DSA Self Paced Course</b></a> at a student-friendly price and become industry ready.\", 'Writing code in comment? Please use <a href=\"https://ide.geeksforgeeks.org/\">ide.geeksforgeeks.org</a>, generate link and share the link here.</a>']\n"
          ],
          "name": "stdout"
        }
      ]
    }
  ]
}