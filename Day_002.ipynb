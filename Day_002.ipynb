{
  "nbformat": 4,
  "nbformat_minor": 0,
  "metadata": {
    "colab": {
      "name": "Day_002.ipynb",
      "provenance": []
    },
    "kernelspec": {
      "name": "python3",
      "display_name": "Python 3"
    }
  },
  "cells": [
    {
      "cell_type": "markdown",
      "metadata": {
        "id": "KBWV2rJ8pUPn",
        "colab_type": "text"
      },
      "source": [
        "**Function Parameter**"
      ]
    },
    {
      "cell_type": "code",
      "metadata": {
        "id": "_8IeQJS9nVvM",
        "colab_type": "code",
        "colab": {
          "base_uri": "https://localhost:8080/",
          "height": 68
        },
        "outputId": "af50516c-2279-4a93-cfbc-13f7c57be679"
      },
      "source": [
        "def multiply(num1,num2):\n",
        "    print(\"num1 is\",num1)\n",
        "    print(\"num2 is\",num2)\n",
        "    print(num1*num2)\n",
        "\n",
        "multiply(5,6)"
      ],
      "execution_count": 2,
      "outputs": [
        {
          "output_type": "stream",
          "text": [
            "num1 is 5\n",
            "num2 is 6\n",
            "30\n"
          ],
          "name": "stdout"
        }
      ]
    },
    {
      "cell_type": "markdown",
      "metadata": {
        "id": "1YABjEsvplOC",
        "colab_type": "text"
      },
      "source": [
        "**Function Parameter Defaults**"
      ]
    },
    {
      "cell_type": "code",
      "metadata": {
        "id": "i86KrK0Mpz1n",
        "colab_type": "code",
        "colab": {
          "base_uri": "https://localhost:8080/",
          "height": 68
        },
        "outputId": "cf127174-c6be-4c27-8af1-62e9f1bf918a"
      },
      "source": [
        "def multiply(num1,num2=10):\n",
        "    print(\"num1 is\",num1)\n",
        "    print(\"num2 is\",num2)\n",
        "    print(num1*num2)\n",
        "\n",
        "multiply(5)"
      ],
      "execution_count": 3,
      "outputs": [
        {
          "output_type": "stream",
          "text": [
            "num1 is 5\n",
            "num2 is 10\n",
            "50\n"
          ],
          "name": "stdout"
        }
      ]
    },
    {
      "cell_type": "markdown",
      "metadata": {
        "id": "eNXegYlLrPwA",
        "colab_type": "text"
      },
      "source": [
        "**Local & Global Variables**"
      ]
    },
    {
      "cell_type": "code",
      "metadata": {
        "id": "xO4SloBusqQ1",
        "colab_type": "code",
        "colab": {
          "base_uri": "https://localhost:8080/",
          "height": 51
        },
        "outputId": "86c0be7d-3bf3-45db-bdb5-850a9d2c16d0"
      },
      "source": [
        "x=10\n",
        "def sample():\n",
        "    global x    # assign global variable to x\n",
        "    print(x)\n",
        "    x+=1\n",
        "    print(x)\n",
        "    \n",
        "sample()"
      ],
      "execution_count": 4,
      "outputs": [
        {
          "output_type": "stream",
          "text": [
            "10\n",
            "11\n"
          ],
          "name": "stdout"
        }
      ]
    },
    {
      "cell_type": "code",
      "metadata": {
        "id": "9Xlrj58xsuKC",
        "colab_type": "code",
        "colab": {
          "base_uri": "https://localhost:8080/",
          "height": 51
        },
        "outputId": "5e2e56f4-4cb1-4883-bc2a-86852912b55b"
      },
      "source": [
        "x=10\n",
        "def sample():\n",
        "    local=x\n",
        "    print(local)\n",
        "    local+=1\n",
        "    print(local)\n",
        "    \n",
        "sample()"
      ],
      "execution_count": 5,
      "outputs": [
        {
          "output_type": "stream",
          "text": [
            "10\n",
            "11\n"
          ],
          "name": "stdout"
        }
      ]
    },
    {
      "cell_type": "markdown",
      "metadata": {
        "id": "9XuPdxynwV5b",
        "colab_type": "text"
      },
      "source": [
        "**Writing to File**"
      ]
    },
    {
      "cell_type": "code",
      "metadata": {
        "id": "AjY_3l-pwfv1",
        "colab_type": "code",
        "colab": {}
      },
      "source": [
        "text=\"sample text to save\\nNew line....\"\n",
        "savefile=open(\"file1.txt\",\"w\")\n",
        "savefile.write(text)\n",
        "savefile.close()"
      ],
      "execution_count": 6,
      "outputs": []
    },
    {
      "cell_type": "markdown",
      "metadata": {
        "id": "bQ6QnSoDxnr9",
        "colab_type": "text"
      },
      "source": [
        "**Appending Files**"
      ]
    },
    {
      "cell_type": "code",
      "metadata": {
        "id": "CxzV5LcbwjkQ",
        "colab_type": "code",
        "colab": {}
      },
      "source": [
        "appendtext=\"\\nNew line....\"\n",
        "appendfile=open(\"file1.txt\",\"a\")\n",
        "appendfile.write(appendtext)\n",
        "appendfile.close()"
      ],
      "execution_count": 7,
      "outputs": []
    },
    {
      "cell_type": "markdown",
      "metadata": {
        "id": "tB9q4vyAxxkt",
        "colab_type": "text"
      },
      "source": [
        "**Read from a File**"
      ]
    },
    {
      "cell_type": "code",
      "metadata": {
        "id": "C8xec2K7xxPt",
        "colab_type": "code",
        "colab": {
          "base_uri": "https://localhost:8080/",
          "height": 68
        },
        "outputId": "ddb9176c-a925-43d2-eb09-ec0885e1ea10"
      },
      "source": [
        "readme=open(\"file1.txt\",\"r\").read()\n",
        "print(readme)"
      ],
      "execution_count": 8,
      "outputs": [
        {
          "output_type": "stream",
          "text": [
            "sample text to save\n",
            "New line....\n",
            "New line....\n"
          ],
          "name": "stdout"
        }
      ]
    },
    {
      "cell_type": "code",
      "metadata": {
        "id": "fcuu3KzKyccg",
        "colab_type": "code",
        "colab": {
          "base_uri": "https://localhost:8080/",
          "height": 34
        },
        "outputId": "289c8864-1953-4bb0-85d5-f52a7809439c"
      },
      "source": [
        "readme=open(\"file1.txt\",\"r\").readlines()\n",
        "print(readme)"
      ],
      "execution_count": 9,
      "outputs": [
        {
          "output_type": "stream",
          "text": [
            "['sample text to save\\n', 'New line....\\n', 'New line....']\n"
          ],
          "name": "stdout"
        }
      ]
    },
    {
      "cell_type": "markdown",
      "metadata": {
        "id": "aPdmAOwayehf",
        "colab_type": "text"
      },
      "source": [
        "**Classes**"
      ]
    },
    {
      "cell_type": "code",
      "metadata": {
        "id": "XnfINhrE0oaq",
        "colab_type": "code",
        "colab": {
          "base_uri": "https://localhost:8080/",
          "height": 51
        },
        "outputId": "4b3ea62e-841f-4eac-c19a-76153534cd6b"
      },
      "source": [
        "class circle:\n",
        "    def circumference(radius):\n",
        "        circum=2*3.14*radius\n",
        "        print(circum)\n",
        "    \n",
        "    def area(radius):\n",
        "        are=3.14*radius**2\n",
        "        print(are)\n",
        "        \n",
        "circle.area(3)\n",
        "circle.circumference(3)\n",
        "        "
      ],
      "execution_count": 10,
      "outputs": [
        {
          "output_type": "stream",
          "text": [
            "28.26\n",
            "18.84\n"
          ],
          "name": "stdout"
        }
      ]
    }
  ]
}