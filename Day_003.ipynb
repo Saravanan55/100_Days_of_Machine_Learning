{
  "nbformat": 4,
  "nbformat_minor": 0,
  "metadata": {
    "colab": {
      "name": "Day_003.ipynb",
      "provenance": []
    },
    "kernelspec": {
      "name": "python3",
      "display_name": "Python 3"
    }
  },
  "cells": [
    {
      "cell_type": "markdown",
      "metadata": {
        "id": "1R-auNjo4dd7",
        "colab_type": "text"
      },
      "source": [
        "# **Getting User Input**"
      ]
    },
    {
      "cell_type": "code",
      "metadata": {
        "id": "l55mU0G64W7Z",
        "colab_type": "code",
        "colab": {
          "base_uri": "https://localhost:8080/",
          "height": 51
        },
        "outputId": "b42e6eda-ce02-4687-ea05-73984972b6c5"
      },
      "source": [
        "name=input(\"What is your name? \")\n",
        "print(\"Hello \"+name)"
      ],
      "execution_count": 1,
      "outputs": [
        {
          "output_type": "stream",
          "text": [
            "What is your name? Saravanan\n",
            "Hello Saravanan\n"
          ],
          "name": "stdout"
        }
      ]
    },
    {
      "cell_type": "markdown",
      "metadata": {
        "id": "iFaBHZTb6miQ",
        "colab_type": "text"
      },
      "source": [
        "# **Mean,Variance,Median,Standard Deviation**"
      ]
    },
    {
      "cell_type": "code",
      "metadata": {
        "id": "YJsZSyKW8dWq",
        "colab_type": "code",
        "colab": {
          "base_uri": "https://localhost:8080/",
          "height": 85
        },
        "outputId": "a1f82fac-01af-459c-c159-e4e5febf08ae"
      },
      "source": [
        "import statistics\n",
        "\n",
        "list1=[1,2,3,4,5,6,7,8,9,10]\n",
        "\n",
        "mean=statistics.mean(list1)\n",
        "median=statistics.median(list1)\n",
        "variance=statistics.variance(list1)\n",
        "stdev=statistics.stdev(list1)\n",
        "\n",
        "print(mean)\n",
        "print(median)\n",
        "print(variance)\n",
        "print(stdev)"
      ],
      "execution_count": 2,
      "outputs": [
        {
          "output_type": "stream",
          "text": [
            "5.5\n",
            "5.5\n",
            "9.166666666666666\n",
            "3.0276503540974917\n"
          ],
          "name": "stdout"
        }
      ]
    },
    {
      "cell_type": "markdown",
      "metadata": {
        "id": "LWr7crnv8lwi",
        "colab_type": "text"
      },
      "source": [
        "# **Module Import Syntax**"
      ]
    },
    {
      "cell_type": "code",
      "metadata": {
        "id": "0-rgGHuQ92eF",
        "colab_type": "code",
        "colab": {
          "base_uri": "https://localhost:8080/",
          "height": 68
        },
        "outputId": "b2de576f-7211-4e2a-b612-5a9e5ab790e5"
      },
      "source": [
        "# from statistics import maen,variance\n",
        "from statistics import *\n",
        "\n",
        "list1=[1,2,3,4,5,6,7,8,9]\n",
        "\n",
        "mean=mean(list1)\n",
        "variance=variance(list1)\n",
        "stdev=stdev(list1)\n",
        "print(mean)\n",
        "print(variance)\n",
        "print(stdev)"
      ],
      "execution_count": 3,
      "outputs": [
        {
          "output_type": "stream",
          "text": [
            "5\n",
            "7.5\n",
            "2.7386127875258306\n"
          ],
          "name": "stdout"
        }
      ]
    },
    {
      "cell_type": "markdown",
      "metadata": {
        "id": "5NKY4GgT-iOz",
        "colab_type": "text"
      },
      "source": [
        "# **List Manipulation**"
      ]
    },
    {
      "cell_type": "code",
      "metadata": {
        "id": "zTbUknpKB1r3",
        "colab_type": "code",
        "colab": {
          "base_uri": "https://localhost:8080/",
          "height": 153
        },
        "outputId": "fab545ab-9f7b-4f9a-afc8-32f79b31bc4f"
      },
      "source": [
        "x=[1,2,3,4,5,6,8,9]\n",
        "\n",
        "x.append(10)\n",
        "print(x)\n",
        "x.insert(6,7)\n",
        "print(x)\n",
        "print(x[7:9])\n",
        "x.remove(10)\n",
        "print(x)\n",
        "print(x[-1])\n",
        "print(x.index(5))\n",
        "y=[2,5,7,1,5,9,3,5,2,8,4]\n",
        "\n",
        "print(y.count(5))\n",
        "y.sort()\n",
        "print(y)"
      ],
      "execution_count": 4,
      "outputs": [
        {
          "output_type": "stream",
          "text": [
            "[1, 2, 3, 4, 5, 6, 8, 9, 10]\n",
            "[1, 2, 3, 4, 5, 6, 7, 8, 9, 10]\n",
            "[8, 9]\n",
            "[1, 2, 3, 4, 5, 6, 7, 8, 9]\n",
            "9\n",
            "4\n",
            "3\n",
            "[1, 2, 2, 3, 4, 5, 5, 5, 7, 8, 9]\n"
          ],
          "name": "stdout"
        }
      ]
    },
    {
      "cell_type": "markdown",
      "metadata": {
        "id": "W4c9qkqZDl4u",
        "colab_type": "text"
      },
      "source": [
        "# **Multi-dimensional List**"
      ]
    },
    {
      "cell_type": "code",
      "metadata": {
        "id": "q8f7RydRFPD0",
        "colab_type": "code",
        "colab": {
          "base_uri": "https://localhost:8080/",
          "height": 85
        },
        "outputId": "6a724e0f-bf71-4cfe-b292-5f213b7aedb8"
      },
      "source": [
        "x=[\n",
        "    [[1,2],[2,3]],\n",
        "    [[4,5],[5,6]],\n",
        "    [7,8,9,10]\n",
        "    ]\n",
        "print(x)    \n",
        "print(x[1])\n",
        "print(x[1][0])\n",
        "print(x[1][0][1])"
      ],
      "execution_count": 5,
      "outputs": [
        {
          "output_type": "stream",
          "text": [
            "[[[1, 2], [2, 3]], [[4, 5], [5, 6]], [7, 8, 9, 10]]\n",
            "[[4, 5], [5, 6]]\n",
            "[4, 5]\n",
            "5\n"
          ],
          "name": "stdout"
        }
      ]
    },
    {
      "cell_type": "markdown",
      "metadata": {
        "id": "FAWnare7FW8p",
        "colab_type": "text"
      },
      "source": [
        "# **Multi-line Print**"
      ]
    },
    {
      "cell_type": "code",
      "metadata": {
        "id": "W093etJLLaAO",
        "colab_type": "code",
        "colab": {
          "base_uri": "https://localhost:8080/",
          "height": 289
        },
        "outputId": "50b65f71-7f3a-442e-a2e3-2a9c6a360299"
      },
      "source": [
        "print('''\n",
        "       /\\\\\n",
        "      /  \\\\\n",
        "     /    \\\\\n",
        "    /      \\\\\n",
        "   /        \\\\\n",
        "  /          \\\\\n",
        " /            \\\\\n",
        " ==============\n",
        "|              |\n",
        "|              |\n",
        "|              |\n",
        "|              |\n",
        "|              |\n",
        " ==============\n",
        "''')"
      ],
      "execution_count": 6,
      "outputs": [
        {
          "output_type": "stream",
          "text": [
            "\n",
            "       /\\\n",
            "      /  \\\n",
            "     /    \\\n",
            "    /      \\\n",
            "   /        \\\n",
            "  /          \\\n",
            " /            \\\n",
            " ==============\n",
            "|              |\n",
            "|              |\n",
            "|              |\n",
            "|              |\n",
            "|              |\n",
            " ==============\n",
            "\n"
          ],
          "name": "stdout"
        }
      ]
    },
    {
      "cell_type": "markdown",
      "metadata": {
        "id": "AmBcmqSmMhK5",
        "colab_type": "text"
      },
      "source": [
        "# **Dictionaries**"
      ]
    },
    {
      "cell_type": "code",
      "metadata": {
        "id": "vKZcg9RLMlpM",
        "colab_type": "code",
        "colab": {
          "base_uri": "https://localhost:8080/",
          "height": 102
        },
        "outputId": "3482112c-9679-414b-a037-c456b790d509"
      },
      "source": [
        "ex_dict={'A':1,'B':2,'C':3}\n",
        "\n",
        "print(ex_dict)\n",
        "print(ex_dict['A'])\n",
        "ex_dict['D']=5\n",
        "print(ex_dict)\n",
        "ex_dict['D']=4\n",
        "print(ex_dict)\n",
        "del ex_dict['D']\n",
        "print(ex_dict)"
      ],
      "execution_count": 7,
      "outputs": [
        {
          "output_type": "stream",
          "text": [
            "{'A': 1, 'B': 2, 'C': 3}\n",
            "1\n",
            "{'A': 1, 'B': 2, 'C': 3, 'D': 5}\n",
            "{'A': 1, 'B': 2, 'C': 3, 'D': 4}\n",
            "{'A': 1, 'B': 2, 'C': 3}\n"
          ],
          "name": "stdout"
        }
      ]
    }
  ]
}