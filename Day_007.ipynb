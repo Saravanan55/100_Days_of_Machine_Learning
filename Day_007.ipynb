{
  "nbformat": 4,
  "nbformat_minor": 0,
  "metadata": {
    "colab": {
      "name": "Day_007.ipynb",
      "provenance": []
    },
    "kernelspec": {
      "name": "python3",
      "display_name": "Python 3"
    }
  },
  "cells": [
    {
      "cell_type": "markdown",
      "metadata": {
        "id": "GEdObphH4wyM",
        "colab_type": "text"
      },
      "source": [
        "# **Pickle Module for saving objects**"
      ]
    },
    {
      "cell_type": "code",
      "metadata": {
        "id": "hV_Mvrqh4oVc",
        "colab_type": "code",
        "colab": {
          "base_uri": "https://localhost:8080/",
          "height": 51
        },
        "outputId": "01e088a0-6985-4b94-a934-7359cebf30f6"
      },
      "source": [
        "import pickle\n",
        "\n",
        "example_dict = {1:\"6\",2:\"2\",3:\"f\"}\n",
        "\n",
        "pickle_out = open(\"dict.pickle\",\"wb\")\n",
        "pickle.dump(example_dict, pickle_out)\n",
        "pickle_out.close()\n",
        "\n",
        "pickle_in = open(\"dict.pickle\",\"rb\")\n",
        "example_dict = pickle.load(pickle_in)\n",
        "\n",
        "print(example_dict)\n",
        "print(example_dict[3])\n"
      ],
      "execution_count": 1,
      "outputs": [
        {
          "output_type": "stream",
          "text": [
            "{1: '6', 2: '2', 3: 'f'}\n",
            "f\n"
          ],
          "name": "stdout"
        }
      ]
    },
    {
      "cell_type": "markdown",
      "metadata": {
        "id": "OMnEX3pz5Fde",
        "colab_type": "text"
      },
      "source": [
        "# **Eval**"
      ]
    },
    {
      "cell_type": "code",
      "metadata": {
        "id": "jnlmCx1a7kbj",
        "colab_type": "code",
        "colab": {
          "base_uri": "https://localhost:8080/",
          "height": 51
        },
        "outputId": "f3dc9b7a-7bd2-420d-b69b-c19bf51c4041"
      },
      "source": [
        "list_str = \"[1,5,7,8,2]\"\n",
        "list_1 = eval(list_str)\n",
        "print(list_1)\n",
        "print(list_1[1])"
      ],
      "execution_count": 2,
      "outputs": [
        {
          "output_type": "stream",
          "text": [
            "[1, 5, 7, 8, 2]\n",
            "5\n"
          ],
          "name": "stdout"
        }
      ]
    },
    {
      "cell_type": "code",
      "metadata": {
        "id": "BJ5A-ek57pOn",
        "colab_type": "code",
        "colab": {
          "base_uri": "https://localhost:8080/",
          "height": 51
        },
        "outputId": "7be3b7bf-cd72-4c56-db5d-018c891907d0"
      },
      "source": [
        "check_this_out = eval(input(\"code:\"))"
      ],
      "execution_count": 3,
      "outputs": [
        {
          "output_type": "stream",
          "text": [
            "code:print(\"hello world\")\n",
            "hello world\n"
          ],
          "name": "stdout"
        }
      ]
    },
    {
      "cell_type": "markdown",
      "metadata": {
        "id": "1fP8JPEs8ZWq",
        "colab_type": "text"
      },
      "source": [
        "# **Exec**"
      ]
    },
    {
      "cell_type": "code",
      "metadata": {
        "id": "NJZ5P5QJ8hiw",
        "colab_type": "code",
        "colab": {
          "base_uri": "https://localhost:8080/",
          "height": 34
        },
        "outputId": "a1d5b1c7-c750-4695-dd90-11c2101ada82"
      },
      "source": [
        "exec(\"print('so this works like eval')\")\n"
      ],
      "execution_count": 4,
      "outputs": [
        {
          "output_type": "stream",
          "text": [
            "so this works like eval\n"
          ],
          "name": "stdout"
        }
      ]
    },
    {
      "cell_type": "code",
      "metadata": {
        "id": "0qicze298lXL",
        "colab_type": "code",
        "colab": {
          "base_uri": "https://localhost:8080/",
          "height": 34
        },
        "outputId": "ad1c2245-5e6e-42ab-f365-714c7916b890"
      },
      "source": [
        "exec(\"list_str = [1,5,7,8,2]\")\n",
        "print(list_str)"
      ],
      "execution_count": 5,
      "outputs": [
        {
          "output_type": "stream",
          "text": [
            "[1, 5, 7, 8, 2]\n"
          ],
          "name": "stdout"
        }
      ]
    },
    {
      "cell_type": "code",
      "metadata": {
        "id": "ezK0svdf8r5T",
        "colab_type": "code",
        "colab": {
          "base_uri": "https://localhost:8080/",
          "height": 51
        },
        "outputId": "894585ef-c7e6-4aff-8ad7-76f0628fd207"
      },
      "source": [
        "exec(\"def test(): print('oooo snap!!!')\")\n",
        "test()\n",
        "exec(\"\"\"\n",
        "def test2():\n",
        "    print('lets see if multi line works....')\n",
        "\"\"\")\n",
        "\n",
        "test2()"
      ],
      "execution_count": 6,
      "outputs": [
        {
          "output_type": "stream",
          "text": [
            "oooo snap!!!\n",
            "lets see if multi line works....\n"
          ],
          "name": "stdout"
        }
      ]
    }
  ]
}